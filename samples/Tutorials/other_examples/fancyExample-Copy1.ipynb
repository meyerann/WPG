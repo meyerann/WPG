{
 "cells": [
  {
   "cell_type": "markdown",
   "metadata": {},
   "source": [
    "Fresnel number F: How much will the beam bend at an aperture \n",
    "$F=\\frac{a^2}{d*\\lambda}$\n",
    "\n",
    "Fresnel diffraction is when $F \\approx1 $\n",
    "\n",
    "Fraunhofer diffraction is when $F \\ll 1$\n",
    "\n"
   ]
  },
  {
   "cell_type": "markdown",
   "metadata": {},
   "source": [
    "\n",
    "######source beam ---distance = 196--- rectangular aperture ---distance = --- plot of beam ---distance = --- first offset mirror ---distance = 4m--- plot of beam ---distance = --- plot of beam --- distance = --- plot of beam"
   ]
  },
  {
   "cell_type": "code",
   "execution_count": 1,
   "metadata": {
    "collapsed": false
   },
   "outputs": [
    {
     "name": "stdout",
     "output_type": "stream",
     "text": [
      "Populating the interactive namespace from numpy and matplotlib\n"
     ]
    }
   ],
   "source": [
    "%pylab inline"
   ]
  },
  {
   "cell_type": "code",
   "execution_count": 2,
   "metadata": {
    "collapsed": false
   },
   "outputs": [
    {
     "ename": "ImportError",
     "evalue": "No module named wpg.srwlib",
     "output_type": "error",
     "traceback": [
      "\u001b[1;31m---------------------------------------------------------------------------\u001b[0m",
      "\u001b[1;31mImportError\u001b[0m                               Traceback (most recent call last)",
      "\u001b[1;32m<ipython-input-2-aa4325cc7e94>\u001b[0m in \u001b[0;36m<module>\u001b[1;34m()\u001b[0m\n\u001b[0;32m     15\u001b[0m \u001b[1;33m\u001b[0m\u001b[0m\n\u001b[0;32m     16\u001b[0m \u001b[1;31m#import SRW core functions\u001b[0m\u001b[1;33m\u001b[0m\u001b[1;33m\u001b[0m\u001b[0m\n\u001b[1;32m---> 17\u001b[1;33m \u001b[1;32mfrom\u001b[0m \u001b[0mwpg\u001b[0m\u001b[1;33m.\u001b[0m\u001b[0msrwlib\u001b[0m \u001b[1;32mimport\u001b[0m \u001b[0msrwl\u001b[0m\u001b[1;33m,\u001b[0m\u001b[0mSRWLOptD\u001b[0m\u001b[1;33m,\u001b[0m\u001b[0mSRWLOptA\u001b[0m\u001b[1;33m,\u001b[0m\u001b[0mSRWLOptC\u001b[0m\u001b[1;33m,\u001b[0m\u001b[0mSRWLOptT\u001b[0m\u001b[1;33m,\u001b[0m\u001b[0mSRWLOptL\u001b[0m\u001b[1;33m,\u001b[0m\u001b[0mSRWLOptMirEl\u001b[0m\u001b[1;33m\u001b[0m\u001b[0m\n\u001b[0m\u001b[0;32m     18\u001b[0m \u001b[1;33m\u001b[0m\u001b[0m\n\u001b[0;32m     19\u001b[0m \u001b[1;31m#import SRW helpers functions\u001b[0m\u001b[1;33m\u001b[0m\u001b[1;33m\u001b[0m\u001b[0m\n",
      "\u001b[1;31mImportError\u001b[0m: No module named wpg.srwlib"
     ]
    }
   ],
   "source": [
    "#### Import modules\n",
    "\n",
    "\n",
    "#Importing necessary modules:\n",
    "import os\n",
    "import sys\n",
    "#sys.path.insert(0,os.path.join('..','..'))\n",
    "sys.path.insert(0,'/Users/lsamoylv/code/WPG')\n",
    "\n",
    "import time\n",
    "import copy\n",
    "import numpy\n",
    "import pylab\n",
    "\n",
    "\n",
    "#import SRW core functions\n",
    "from wpg.srwlib import srwl,SRWLOptD,SRWLOptA,SRWLOptC,SRWLOptT,SRWLOptL,SRWLOptMirEl\n",
    "\n",
    "#import SRW helpers functions\n",
    "from wpg.useful_code.srwutils import AuxTransmAddSurfHeightProfileScaled\n",
    "\n",
    "#import some helpers functions\n",
    "from wpg.useful_code.wfrutils import plot_1d, plot_2d, calculate_fwhm_x, plot_wfront, calculate_fwhm_y, print_beamline, get_mesh\n",
    "#Import base wavefront class\n",
    "from wpg import Wavefront\n",
    "\n",
    "#Gaussian beam generator\n",
    "from wpg.generators import build_gauss_wavefront_xy\n",
    "\n",
    "pylab.ion()"
   ]
  },
  {
   "cell_type": "markdown",
   "metadata": {},
   "source": [
    "#### Defining auxiliary function"
   ]
  },
  {
   "cell_type": "code",
   "execution_count": null,
   "metadata": {
    "collapsed": false
   },
   "outputs": [],
   "source": [
    "def calculate_source_fwhm(ekev, theta_fwhm):\n",
    "    \"\"\"\n",
    "    Calculate source size from photon energy and FWHM angular divergence\n",
    "    \n",
    "    :param evev: Energy in keV\n",
    "    :param theta_fwhm: theta_fwhm [units?] \n",
    "    :return: sigma0*k [AKM]\n",
    "    \"\"\"\n",
    "    wl = 12.39e-10/ekev\n",
    "    k = 2 * sqrt(2*log(2))\n",
    "    theta_sigma = theta_fwhm /k\n",
    "    sigma0 = wl /(2*numpy.pi*theta_sigma)\n",
    "    return sigma0*k"
   ]
  },
  {
   "cell_type": "code",
   "execution_count": null,
   "metadata": {
    "collapsed": false
   },
   "outputs": [],
   "source": [
    "def calculate_theta_fwhm_cdr(ekev,qnC):\n",
    "    \"\"\"\n",
    "    Calculate angular divergence using formula from XFEL CDR2011\n",
    "    \n",
    "    :param ekev: Energy in keV\n",
    "    :param qnC: e-bunch charge, [nC]\n",
    "    :return: theta_fwhm [units?]\n",
    "    \"\"\"\n",
    "    theta_fwhm = (17.2 - 6.4 * sqrt(qnC))*1e-6/ekev**0.85\n",
    "    return theta_fwhm"
   ]
  },
  {
   "cell_type": "markdown",
   "metadata": {},
   "source": [
    "#### Defining initial wavefront with an energz of 0.8keV and an e-bunch charge of 0.1nC. Afterwards writing electric field data to h5-file"
   ]
  },
  {
   "cell_type": "code",
   "execution_count": null,
   "metadata": {
    "collapsed": false
   },
   "outputs": [],
   "source": [
    "#**********************Input Wavefront Structure and Parameters\n",
    "print('*****defining initial wavefront and writing electric field data to h5-file...')\n",
    "strInputDataFolder = 'data_common'  # input data sub-folder name\n",
    "strOutputDataFolder = 'data_AKM'  # output data sub-folder name\n",
    "\n",
    "#defining parameters for initial gaussian wavefront\n",
    "qnC = 0.1                    # e-bunch charge, [nC]\n",
    "pulse_duration = 9.e-15      # [AKM] [s]      \n",
    "#ekev = 0.8            # [AKM] Energy in [keV]\n",
    "ekev = 0.4            # [AKM] Energy in [keV]\n",
    "pulseEnergy = 1.e-3   # [AKM] pulse Energy in [keV] \n",
    "coh_time = 0.82e-15\n",
    "\n",
    "#calculate angular divergence\n",
    "theta_fwhm = calculate_theta_fwhm_cdr(ekev,qnC)\n",
    "k = 2*sqrt(2*log(2))\n",
    "sigX = 12.4e-10*k/(ekev*4*pi*theta_fwhm) \n",
    "d2Apertur = 196 # Distance to aperture [m]\n",
    "d2imager0 = 275 # Distance to first imager [m]\n",
    "print 'waist_fwhm [um], theta_fwhms [urad]:', sigX*k*1e6, theta_fwhm*1e6\n",
    "#define limits of number of data points/picture pixel per axis[AKM] \n",
    "range_xy = theta_fwhm/k*d2Apertur*5. # sigma*4 beam size\n",
    "np=400 #number of data points\n",
    "\n",
    "\n",
    "\n",
    "#build SRW gauusian wavefront with defined parameters \n",
    "wfr0 = build_gauss_wavefront_xy(np,np,ekev,-range_xy/2,range_xy/2,-range_xy/2,range_xy/2,sigX,sigX,d2Apertur,\n",
    "                                pulseEn=pulseEnergy,pulseTau=coh_time/sqrt(2),repRate=1/(sqrt(2)*pulse_duration)) \n",
    "\n",
    "#init WPG Wavefront helper class\n",
    "mwf = Wavefront(wfr0)\n",
    "#defining name HDF5 file for storing wavefront\n",
    "ifname = os.path.join(strOutputDataFolder,'gwf_AKM'+'.h5')\n",
    "#store wavefront to HDF5 file \n",
    "mwf.store_hdf5(ifname)\n",
    "\n",
    "pylab.set_cmap('bone')\n",
    "plt.subplot(1,2,1)\n",
    "plt.title('Intensity')\n",
    "plt.imshow(mwf.get_intensity(slice_number=0))\n",
    "plt.subplot(1,2,2)\n",
    "plt.title('Phase')\n",
    "plt.imshow(mwf.get_phase(slice_number=0,polarization='horizontal'))\n",
    "plt.show()\n",
    "\n",
    "#[AKM] draw wavefront with cuts. Plots the intensity profile of wavefront at distance of the first mirror in SASE3\n",
    "plot_wfront(mwf, title_fig='at '+str(d2Apertur)+' m',\n",
    "            isHlog=False, isVlog=False,\n",
    "            i_x_min=1e-5, i_y_min=1e-5, orient='x', onePlot=True, bPlotPha=True)\n",
    "\n",
    "pylab.set_cmap('bone') #set color map, 'bone', 'hot', 'jet', etc\n",
    "fwhm_x = calculate_fwhm_x(mwf)\n",
    "print 'FWHMx [mm], theta_fwhm [urad]:',fwhm_x*1e3,fwhm_x/d2Apertur*1e6"
   ]
  },
  {
   "cell_type": "markdown",
   "metadata": {},
   "source": [
    "Fraunhofer diffraction\n",
    "\n",
    "example with $F=0.1$ and distance to screen 204m"
   ]
  },
  {
   "cell_type": "code",
   "execution_count": null,
   "metadata": {
    "collapsed": false
   },
   "outputs": [],
   "source": [
    "wl = (12.4/ekev)*1e-10 #[AKM] wavelength in [m]\n",
    "F = 0.1 #[AKM] Fresnel number for Fraunhofer diffraction\n",
    "d =204 #[AKM] distance between aperture and screen [m]\n",
    "aS = sqrt(F*d*wl)\n",
    "\n",
    "print 'wavelength: %.2f nm' %(wl*1e9)\n",
    "print 'aperture size: %.2f mm' %(aS*1e3)\n",
    "print 'fresnel number :',F\n",
    "print 'aperture-screen distance :',d\n",
    "\n",
    "d2screen = 400 # [m]\n",
    "dAperture2NextElement = d2imager0 - d2Apertur\n",
    "DriftA_NE = SRWLOptD(dAperture2NextElement)\n",
    "#Wavefront Propagation Parameters:\n",
    "#[0]:  Auto-Resize (1) or not (0) Before propagation\n",
    "#[1]:  Auto-Resize (1) or not (0) After propagation\n",
    "#[2]:  Relative Precision for propagation with Auto-Resizing (1. is nominal)\n",
    "#[3]:  Allow (1) or not (0) for semi-analytical treatment of quadratic phase terms at propagation\n",
    "#[4]:  Do any Resizing on Fourier side, using FFT, (1) or not (0)\n",
    "#[5]:  Horizontal Range modification factor at Resizing (1. means no modification)\n",
    "#[6]:  Horizontal Resolution modification factor at Resizing\n",
    "#[7]:  Vertical Range modification factor at Resizing\n",
    "#[8]:  Vertical Resolution modification factor at Resizing\n",
    "#[9]:  Type of wavefront Shift before Resizing (not yet implemented)\n",
    "#[10]: New Horizontal wavefront Center position after Shift (not yet implemented)\n",
    "#[11]: New Vertical wavefront Center position after Shift (not yet implemented)\n",
    "#                 [ 0] [1] [2]  [3] [4] [5]  [6]  [7]  [8]  [9] [10] [11] \n",
    "ppApertur =       [ 0,  0, 1.0,  0,  0, 1.0, 1.0, 1.0, 1.0,  0,  0,   0]\n",
    "ppDriftA_NE =     [ 0,  0, 1.0,  1,  0, 2.4, 1.01, 2.4, 1.01,  0,  0,   0]\n",
    "print '*****Ideal aperture without distortion'\n",
    "bPlotted = False\n",
    "isHlog = False\n",
    "isVlog = False\n",
    "bSaved = True\n",
    "opApertur = SRWLOptA('r', 'a',aS, aS)  # clear aperture of the Offset Mirror(s)\n",
    "strBL = 'blA_0.9mm'\n",
    "print '*****setting-up optical elements, beamline:', strBL\n",
    "#[AKM] optical beamline 0\n",
    "optBL = SRWLOptC([opApertur, DriftA_NE],[ppApertur,ppDriftA_NE]) \n",
    "print_beamline(optBL)\n",
    "\n",
    "print '*****reading wavefront from h5 file...'\n",
    "w2 = Wavefront()\n",
    "w2.load_hdf5(ifname)\n",
    "wfr = w2._srwl_wf\n",
    "print '*****propagating wavefront (with resizing)...'\n",
    "srwl.PropagElecField(wfr, optBL)\n",
    "mwf = Wavefront(wfr)\n",
    "print '[nx, ny, xmin, xmax, ymin, ymax]', get_mesh(mwf)\n",
    "print 'done'\n",
    "\n",
    "print '*****Ideal mirror: HOM as an aperture'\n",
    "print 'plot wavefront after aperture in distance [m]', d2imager0 - d2Apertur\n",
    "\n",
    "#Imager 0 at point 275m (79m after the the Aperture)\n",
    "#Plots the wavefront at this point.\n",
    "plot_wfront(mwf, title_fig='at '+str(d2imager0)+' m', isHlog=False, isVlog=False, \n",
    "            i_x_min=1e-5, i_y_min=1e-5, orient='x', onePlot=True, bPlotPha=True)\n",
    "pylab.set_cmap('bone') #set color map, 'bone', 'hot', 'jet', etc\n",
    "pylab.axis('tight')    \n",
    "pylab.xlim(-10,10)\n",
    "print '*****safing wavefront to h5 file...'\n",
    "mwf.store_hdf5(ifname)\n",
    "#print 'FWHMx [mm], theta_fwhm [urad]:',calculate_fwhm_x(mwf)*1e3,calculate_fwhm_x(mwf)/(dAperture2NextElement)*1e6\n",
    "#print 'FWHMy [mm], theta_fwhm [urad]:',calculate_fwhm_y(mwf)*1e3,calculate_fwhm_y(mwf)/(dAperture2NextElement)*1e6"
   ]
  },
  {
   "cell_type": "markdown",
   "metadata": {
    "collapsed": false
   },
   "source": [
    "First offset mirror at point 281 (6m after imager 0) and plot the beam at position of imager 1 at point 286 (5m after offset mirror)"
   ]
  },
  {
   "cell_type": "code",
   "execution_count": null,
   "metadata": {
    "collapsed": true
   },
   "outputs": [],
   "source": [
    "d2m1= 281\n"
   ]
  },
  {
   "cell_type": "code",
   "execution_count": null,
   "metadata": {
    "collapsed": true
   },
   "outputs": [],
   "source": []
  },
  {
   "cell_type": "code",
   "execution_count": null,
   "metadata": {
    "collapsed": true
   },
   "outputs": [],
   "source": []
  },
  {
   "cell_type": "code",
   "execution_count": null,
   "metadata": {
    "collapsed": true
   },
   "outputs": [],
   "source": []
  }
 ],
 "metadata": {
  "kernelspec": {
   "display_name": "Python 2",
   "language": "python",
   "name": "python2"
  },
  "language_info": {
   "codemirror_mode": {
    "name": "ipython",
    "version": 2
   },
   "file_extension": ".py",
   "mimetype": "text/x-python",
   "name": "python",
   "nbconvert_exporter": "python",
   "pygments_lexer": "ipython2",
   "version": "2.7.6"
  }
 },
 "nbformat": 4,
 "nbformat_minor": 0
}
