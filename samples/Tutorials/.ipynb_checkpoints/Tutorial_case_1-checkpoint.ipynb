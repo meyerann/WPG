{
 "cells": [
  {
   "cell_type": "markdown",
   "metadata": {},
   "source": [
    "# Wavefront propagation simulation tutorial - Case 1"
   ]
  },
  {
   "cell_type": "markdown",
   "metadata": {},
   "source": [
    "L.Samoylova <liubov.samoylova@xfel.eu>, A.Buzmakov <buzmakov@gmail.com>\n",
    "\n",
    "Tutorial course on Wavefront Propagation Simulations, 28/11/2013, European XFEL, Hamburg.\n",
    "\n",
    "Wave optics software is based on SRW core library <https://github.com/ochubar/SRW>, available through WPG interactive framework <https://github.com/samoylv/WPG>"
   ]
  },
  {
   "cell_type": "markdown",
   "metadata": {},
   "source": [
    "## Propagation through CRLs optics"
   ]
  },
  {
   "cell_type": "markdown",
   "metadata": {},
   "source": [
    "### Import modules"
   ]
  },
  {
   "cell_type": "code",
   "execution_count": 1,
   "metadata": {
    "collapsed": false
   },
   "outputs": [
    {
     "name": "stdout",
     "output_type": "stream",
     "text": [
      "Populating the interactive namespace from numpy and matplotlib\n"
     ]
    }
   ],
   "source": [
    "%pylab inline"
   ]
  },
  {
   "cell_type": "code",
   "execution_count": 2,
   "metadata": {
    "collapsed": false
   },
   "outputs": [
    {
     "ename": "ImportError",
     "evalue": "No module named srwlpy",
     "output_type": "error",
     "traceback": [
      "\u001b[1;31m---------------------------------------------------------------------------\u001b[0m",
      "\u001b[1;31mImportError\u001b[0m                               Traceback (most recent call last)",
      "\u001b[1;32m<ipython-input-2-3c35cd2a8c73>\u001b[0m in \u001b[0;36m<module>\u001b[1;34m()\u001b[0m\n\u001b[0;32m     13\u001b[0m \u001b[1;33m\u001b[0m\u001b[0m\n\u001b[0;32m     14\u001b[0m \u001b[1;31m#import SRW core functions\u001b[0m\u001b[1;33m\u001b[0m\u001b[1;33m\u001b[0m\u001b[0m\n\u001b[1;32m---> 15\u001b[1;33m \u001b[1;32mfrom\u001b[0m \u001b[0mwpg\u001b[0m\u001b[1;33m.\u001b[0m\u001b[0msrwlib\u001b[0m \u001b[1;32mimport\u001b[0m \u001b[0msrwl\u001b[0m\u001b[1;33m,\u001b[0m \u001b[0msrwl_opt_setup_CRL\u001b[0m\u001b[1;33m,\u001b[0m \u001b[0mSRWLOptD\u001b[0m\u001b[1;33m,\u001b[0m \u001b[0mSRWLOptA\u001b[0m\u001b[1;33m,\u001b[0m \u001b[0mSRWLOptC\u001b[0m\u001b[1;33m,\u001b[0m \u001b[0mSRWLOptT\u001b[0m\u001b[1;33m\u001b[0m\u001b[0m\n\u001b[0m\u001b[0;32m     16\u001b[0m \u001b[1;33m\u001b[0m\u001b[0m\n\u001b[0;32m     17\u001b[0m \u001b[1;31m#import SRW auxiliary functions\u001b[0m\u001b[1;33m\u001b[0m\u001b[1;33m\u001b[0m\u001b[0m\n",
      "\u001b[1;32mC:\\Users\\Tini\\Documents\\GitHub\\WPG\\wpg\\__init__.py\u001b[0m in \u001b[0;36m<module>\u001b[1;34m()\u001b[0m\n\u001b[0;32m     13\u001b[0m \u001b[1;31m#This deprecate warnings form SRWLib visualization module\u001b[0m\u001b[1;33m\u001b[0m\u001b[1;33m\u001b[0m\u001b[0m\n\u001b[0;32m     14\u001b[0m \u001b[0mwarnings\u001b[0m\u001b[1;33m.\u001b[0m\u001b[0mfilterwarnings\u001b[0m\u001b[1;33m(\u001b[0m\u001b[1;34m\"ignore\"\u001b[0m\u001b[1;33m)\u001b[0m\u001b[1;33m\u001b[0m\u001b[0m\n\u001b[1;32m---> 15\u001b[1;33m \u001b[1;32mimport\u001b[0m \u001b[0msrwlib\u001b[0m\u001b[1;33m\u001b[0m\u001b[0m\n\u001b[0m\u001b[0;32m     16\u001b[0m \u001b[0mwarnings\u001b[0m\u001b[1;33m.\u001b[0m\u001b[0mresetwarnings\u001b[0m\u001b[1;33m(\u001b[0m\u001b[1;33m)\u001b[0m\u001b[1;33m\u001b[0m\u001b[0m\n\u001b[0;32m     17\u001b[0m \u001b[1;33m\u001b[0m\u001b[0m\n",
      "\u001b[1;32mC:\\Users\\Tini\\Documents\\GitHub\\WPG\\wpg\\srwlib.py\u001b[0m in \u001b[0;36m<module>\u001b[1;34m()\u001b[0m\n\u001b[0;32m      4\u001b[0m \u001b[1;33m\u001b[0m\u001b[0m\n\u001b[0;32m      5\u001b[0m \u001b[1;32mfrom\u001b[0m \u001b[0m__future__\u001b[0m \u001b[1;32mimport\u001b[0m \u001b[0mprint_function\u001b[0m \u001b[1;31m#Python 2.7 compatibility\u001b[0m\u001b[1;33m\u001b[0m\u001b[0m\n\u001b[1;32m----> 6\u001b[1;33m \u001b[1;32mimport\u001b[0m \u001b[0msrwlpy\u001b[0m \u001b[1;32mas\u001b[0m \u001b[0msrwl\u001b[0m\u001b[1;33m\u001b[0m\u001b[0m\n\u001b[0m\u001b[0;32m      7\u001b[0m \u001b[1;32mfrom\u001b[0m \u001b[0marray\u001b[0m \u001b[1;32mimport\u001b[0m \u001b[1;33m*\u001b[0m\u001b[1;33m\u001b[0m\u001b[0m\n\u001b[0;32m      8\u001b[0m \u001b[1;32mfrom\u001b[0m \u001b[0mmath\u001b[0m \u001b[1;32mimport\u001b[0m \u001b[1;33m*\u001b[0m\u001b[1;33m\u001b[0m\u001b[0m\n",
      "\u001b[1;31mImportError\u001b[0m: No module named srwlpy"
     ]
    }
   ],
   "source": [
    "#Importing necessary modules:\n",
    "import os\n",
    "import sys\n",
    "sys.path.insert(0,os.path.join('..','..'))\n",
    "#sys.path.insert('../..')\n",
    "\n",
    "import time\n",
    "import numpy\n",
    "import pylab\n",
    "\n",
    "import cPickle as pickle\n",
    "import errno\n",
    "\n",
    "#import SRW core functions\n",
    "from wpg.srwlib import srwl, srwl_opt_setup_CRL, SRWLOptD, SRWLOptA, SRWLOptC, SRWLOptT\n",
    "\n",
    "#import SRW auxiliary functions\n",
    "from wpg.useful_code.srwutils import AuxTransmAddSurfHeightProfileScaled\n",
    "\n",
    "#import some helpers functions\n",
    "from wpg.useful_code.wfrutils import calculate_fwhm_x, plot_wfront, calculate_fwhm_y, print_beamline, get_mesh, plot_1d, plot_2d\n",
    "from wpg.useful_code.wfrutils import propagate_wavefront\n",
    "\n",
    "#Import base wavefront class\n",
    "from wpg import Wavefront\n",
    "\n",
    "from wpg.beamline import Beamline\n",
    "#Gaussian beam generator\n",
    "from wpg.generators import build_gauss_wavefront_xy\n",
    "\n",
    "pylab.ion()"
   ]
  },
  {
   "cell_type": "markdown",
   "metadata": {},
   "source": [
    "### Define auxiliary functions"
   ]
  },
  {
   "cell_type": "code",
   "execution_count": null,
   "metadata": {
    "collapsed": false
   },
   "outputs": [],
   "source": [
    "def calculate_source_fwhm(ekev, theta_fwhm):\n",
    "    \"\"\"\n",
    "    Calculate source size from photon energy and FWHM angular divergence\n",
    "    \n",
    "    :param evev: Energy in keV\n",
    "    :param theta_fwhm: theta_fwhm [units?] \n",
    "    \"\"\"\n",
    "    wl = 12.39e-10/ekev\n",
    "    k = 2 * numpy.sqrt(2*numpy.log(2))\n",
    "    theta_sigma = theta_fwhm /k\n",
    "    sigma0 = wl /(2*numpy.pi*theta_sigma)\n",
    "    return sigma0*k\n",
    "\n",
    "def calculate_theta_fwhm_cdr(ekev,qnC):\n",
    "    \"\"\"\n",
    "    Calculate angular divergence using formula from XFEL CDR2011\n",
    "    \n",
    "    :param ekev: Energy in keV\n",
    "    :param qnC: e-bunch charge, [nC]\n",
    "    :return: theta_fwhm [units?]\n",
    "    \"\"\"\n",
    "    theta_fwhm = (17.2 - 6.4 * numpy.sqrt(qnC))*1e-6/ekev**0.85\n",
    "    return theta_fwhm\n",
    "\n",
    "def defineOPD(opTrErMirr, mdatafile, ncol, delim, Orient, theta, scale):\n",
    "    \"\"\"\n",
    "    Define optical path difference (OPD) from mirror profile, i.e. ill the struct opTrErMirr\n",
    "    \n",
    "    :params mdatafile: an ascii file with mirror profile data\n",
    "    :params ncol: number of columns in the file\n",
    "    :params delim: delimiter between numbers in an row, can be space (' '), tab '\\t', etc\n",
    "    :params orient: mirror orientation, 'x' (horizontal) or 'y' (vertical)\n",
    "    :params theta: incidence angle\n",
    "    :params scale: scaling factor for the mirror profile    \n",
    "    \"\"\"\n",
    "    heightProfData = numpy.loadtxt(mdatafile).T\n",
    "    AuxTransmAddSurfHeightProfileScaled(opTrErMirr, heightProfData, Orient, theta, scale)\n",
    "    pylab.figure()\n",
    "    plot_1d(heightProfData,'profile from ' + mdatafile,'x (m)', 'h (m)')"
   ]
  },
  {
   "cell_type": "code",
   "execution_count": null,
   "metadata": {
    "collapsed": false
   },
   "outputs": [],
   "source": [
    "def _save_object(obj, file_name):\n",
    "    \"\"\"\n",
    "    Save any python object to file.\n",
    "    \n",
    "    :param: obj : - python objest to be saved\n",
    "    :param: file_name : - output file, wil be overwrite if exists\n",
    "    \"\"\"\n",
    "    with open(file_name,'w') as f:\n",
    "        pickle.dump(obj, f)\n",
    "\n",
    "def _load_object(file_name):\n",
    "    \"\"\"\n",
    "    Save any python object to file.\n",
    "    \n",
    "    :param: file_name : - output file, wil be overwrite if exists\n",
    "    :return: obj : - loaded pthon object\n",
    "    \"\"\"\n",
    "    res = None\n",
    "    with open(file_name,'r') as f:\n",
    "        res = pickle.load(f)\n",
    "        \n",
    "    return res\n",
    "\n",
    "def mkdir_p(path):\n",
    "    \"\"\"\n",
    "    Create directory with subfolders (like Linux mkdir -p)\n",
    "    \n",
    "    :param path: Path to be created\n",
    "    \"\"\"\n",
    "    try:\n",
    "        os.makedirs(path)\n",
    "    except OSError as exc: # Python >2.5\n",
    "        if exc.errno == errno.EEXIST and os.path.isdir(path):\n",
    "            pass\n",
    "        else: raise\n",
    "            \n",
    "def create_CRL(directory=None, voids_params=None, *args, **keywrds):\n",
    "    \"\"\"\n",
    "    This function build CLR or load it from file if it was created befor.\n",
    "    Out/input filename builded as sequence of function parameters.\n",
    "    \n",
    "    Adiitinal parameters (*args) passed to srwlib.srwl_opt_setup_CRL function\n",
    "    \n",
    "    :param directory: output directory to save file.\n",
    "    :param voids_params: void params to build CRL and construct unique file name\n",
    "    :return: SRWL CRL object\n",
    "    \"\"\"\n",
    "    if not isinstance(voids_params,tuple):\n",
    "        raise TypeError('Voids_params must be tuple')\n",
    "        \n",
    "    file_name = '_'.join([str(a) for a in args[:-1]])\n",
    "    subdir_name = '_'.join([str(v) for v in voids_params])\n",
    "    if directory is None:\n",
    "        full_path = os.path.join(subdir_name,file_name+'.pkl')\n",
    "    else:\n",
    "        full_path = os.path.join(directory, subdir_name, file_name+'.pkl')\n",
    "    \n",
    "    if  os.path.isfile(full_path):\n",
    "        print 'Found file {}. CLR will be loaded from file'.format(full_path)\n",
    "        res = _load_object(full_path)\n",
    "        return res\n",
    "    else:\n",
    "        print 'CLR file NOT found. CLR will be recalculated and saved in file {}'.format(full_path)\n",
    "        res = srwlib.srwl_opt_setup_CRL(*args)\n",
    "        mkdir_p(os.path.dirname(full_path))\n",
    "        _save_object(res, full_path)\n",
    "        return res \n",
    "\n",
    "def create_CRL1(directory,file_name,*args, **keywrds):\n",
    "    \"\"\"\n",
    "    This function build CLR or load it from file.\n",
    "    Out/input filename builded as sequence of function parameters.\n",
    "    Adiitinal parameters (*args) passed to srwlib.srwl_opt_setup_CRL function\n",
    "    \n",
    "    :param directory: output directory\n",
    "    :param fiel_name: CRL file name\n",
    "    :return: SRWL CRL object\n",
    "    \"\"\"\n",
    "        \n",
    "    full_path = os.path.join(directory, file_name+'.pkl')\n",
    "    \n",
    "    if  os.path.isfile(full_path):\n",
    "        print 'Found file {}. CLR will be loaded from file'.format(full_path)\n",
    "        res = _load_object(full_path)\n",
    "        return res\n",
    "    else:\n",
    "        print 'CLR file NOT found. CLR will be recalculated and saved in file {}'.format(full_path)\n",
    "        res = srwl_opt_setup_CRL(*args)\n",
    "        mkdir_p(os.path.dirname(full_path))\n",
    "        _save_object(res, full_path)\n",
    "        return res \n"
   ]
  },
  {
   "cell_type": "markdown",
   "metadata": {},
   "source": [
    "### Defining initial wavefront and writing electric field data to h5-file"
   ]
  },
  {
   "cell_type": "code",
   "execution_count": null,
   "metadata": {
    "collapsed": false
   },
   "outputs": [],
   "source": [
    "print('*****defining initial wavefront and writing electric field data to h5-file...')\n",
    "\n",
    "strInputDataFolder ='data_common' # sub-folder name for common input  data \n",
    "strDataFolderName = 'Tutorial_case_1' # output data sub-folder name \n",
    "if not os.path.exists(strDataFolderName):\n",
    "    mkdir_p(strDataFolderName)\n",
    "\n",
    "d2crl1_sase1 = 235.0 # Distance to CRL1 on SASE1 [m]\n",
    "d2crl1_sase2 = 235.0 # Distance to CRL1 on SASE2 [m]\n",
    "d2m1_sase1 = 246.5  # Distance to mirror1 on SASE1 [m]\n",
    "d2m1_sase2 = 290.0  # Distance to mirror1 on SASE2 [m]\n",
    "\n",
    "ekev = 6.742 # Energy [keV] \n",
    "thetaOM = 2.5e-3       # @check!\n",
    "\n",
    "# e-bunch charge, [nC]; total pulse energy, J\n",
    "#qnC = 0.02;pulse_duration = 1.7e-15;pulseEnergy = 0.08e-3   \n",
    "#coh_time = 0.24e-15\n",
    "\n",
    "qnC = 0.1; # e-bunch charge, [nC]\n",
    "pulse_duration = 9.e-15; \n",
    "pulseEnergy = 0.5e-3; # total pulse energy, J\n",
    "coh_time = 0.24e-15\n",
    "\n",
    "\n",
    "d2m1 = d2m1_sase2\n",
    "d2crl1 = d2crl1_sase2\n",
    "\n",
    "z1 = d2crl1\n",
    "theta_fwhm = calculate_theta_fwhm_cdr(ekev,qnC)\n",
    "k = 2*sqrt(2*log(2))\n",
    "sigX = 12.4e-10*k/(ekev*4*pi*theta_fwhm) \n",
    "print 'sigX, waist_fwhm [um], far field theta_fwhms [urad]:', sigX*1e6, sigX*k*1e6, theta_fwhm*1e6\n",
    "#define limits\n",
    "range_xy = theta_fwhm/k*z1*7. # sigma*7 beam size\n",
    "np=180\n",
    "\n",
    "wfr0 = build_gauss_wavefront_xy(np, np, ekev, -range_xy/2, range_xy/2,\n",
    "                                -range_xy/2, range_xy/2 ,sigX, sigX, z1,\n",
    "                                pulseEn=pulseEnergy, pulseTau=coh_time/sqrt(2),\n",
    "                                repRate=1/(sqrt(2)*pulse_duration))    \n",
    "    \n",
    "mwf = Wavefront(wfr0)\n",
    "ip = floor(ekev)\n",
    "frac = numpy.floor((ekev - ip)*1e3)\n",
    "ename = str(int(ip))+'_'+str(int(frac))+'kev'\n",
    "fname0 = 'g' + ename\n",
    "ifname = os.path.join(strDataFolderName,fname0+'.h5')\n",
    "print('save hdf5: '+fname0+'.h5')\n",
    "mwf.store_hdf5(ifname)\n",
    "print('done')\n",
    "pow_x=plot_wfront(mwf, 'at '+str(z1)+' m',False, False, 1e-5,1e-5,'x', True, saveDir='./'+strDataFolderName)\n",
    "pylab.set_cmap('bone') #set color map, 'bone', 'hot', 'jet', etc\n",
    "fwhm_x = calculate_fwhm_x(mwf);fwhm_y = calculate_fwhm_y(mwf)\n",
    "print 'FWHMx [mm], theta_fwhm=fwhm_x/z1 [urad], distance to waist:',fwhm_x*1e3,fwhm_x/z1*1e6, "
   ]
  },
  {
   "cell_type": "code",
   "execution_count": null,
   "metadata": {
    "collapsed": false
   },
   "outputs": [],
   "source": [
    "print pow_x[:,1].max()\n",
    "print 'I_o %g [GW/mm^2]'    %(pow_x[:,1].max()*1e-9) \n",
    "print 'peak power %g [GW]'  %(pow_x[:,1].max()*1e-9*1e6*2*pi*(fwhm_x/2.35)**2)"
   ]
  },
  {
   "cell_type": "markdown",
   "metadata": {},
   "source": [
    "### Defining optical beamline(s) "
   ]
  },
  {
   "cell_type": "code",
   "execution_count": null,
   "metadata": {
    "collapsed": false
   },
   "outputs": [],
   "source": [
    "print('*****Defining optical beamline(s) ...')\n",
    "#d2crl2_sase1 = 904.0\n",
    "d2crl2_sase2 = 931.0\n",
    "\n",
    "d2exp_sase1 = 904.0\n",
    "d2exp_sase2 = 942.0\n",
    "\n",
    "d2crl2 = d2crl2_sase2\n",
    "d2exp = d2exp_sase2\n",
    "z2 = d2m1 - d2crl1\n",
    "z3 = d2crl2 - d2m1\n",
    "#z3 = d2exp - d2m1\n",
    "\n",
    "opApCRL1 = SRWLOptA('c','a',range_xy,range_xy)  # circular collimating CRL(s) aperture  \n",
    "horApM1 = 0.8*thetaOM\n",
    "opApM1 = SRWLOptA('r', 'a', horApM1, range_xy)  # clear aperture of the Offset Mirror(s)\n",
    "DriftCRL1_M1 = SRWLOptD(z2) #Drift from CRL1 to the first offset mirror (M1) \n",
    "#***********CRLs\n",
    "nCRL1 = 1 #number of lenses, collimating\n",
    "nCRL2 = 8\n",
    "delta = 7.511e-06\n",
    "attenLen = 3.88E-3\n",
    "diamCRL = 3.58e-03 #CRL diameter\n",
    "#rMinCRL = 3.3e-03  #CRL radius at the tip of parabola [m]\n",
    "rMinCRL = 2*delta*z1/nCRL1\n",
    "wallThickCRL = 30e-06 #CRL wall thickness [m]\n",
    "#Generating a perfect 2D parabolic CRL:\n",
    "#opCRL1 = srwlib.srwl_opt_setup_CRL(3, delta, attenLen, 1, \n",
    "#                                  diamCRL, diamCRL, rMinCRL, nCRL, wallThickCRL, 0, 0)\n",
    "opCRL1 = create_CRL1(strDataFolderName,\n",
    "                     'opd_CRL1_'+str(nCRL1)+'_R'+str(int(rMinCRL*1e6))+'_'+ename,\n",
    "                     3,delta,attenLen,1,diamCRL,diamCRL,rMinCRL,nCRL1,wallThickCRL,0,0,None)\n",
    "#opCRL1 = srwl_opt_setup_CRL(3, delta, attenLen, 1, \n",
    "#                                  diamCRL, diamCRL, rMinCRL, nCRL1, wallThickCRL, 0, 0)\n",
    "#Saving transmission data to file\n",
    "#AuxSaveOpTransmData(opCRL1, 3, os.path.join(os.getcwd(), strDataFolderName, \"opt_path_dif_CRL1.dat\"))\n",
    "DriftM1_Exp  = SRWLOptD(z3) #Drift from M1 to exp hall \n",
    "opCRL2 = create_CRL1(strDataFolderName,\n",
    "                     'opd_CRL2_'+str(nCRL2)+'_R'+str(int(rMinCRL*1e6))+'_'+ename,\n",
    "                     3,delta,attenLen,1,diamCRL,diamCRL,rMinCRL,nCRL2,wallThickCRL,0,0,None)\n",
    "z4 = rMinCRL/(2*delta*nCRL2)\n",
    "Drift_Sample  = SRWLOptD(z4) #Drift from focusing CRL2 to focal plane \n",
    "\n",
    "#Wavefront Propagation Parameters:\n",
    "#[0]:  Auto-Resize (1) or not (0) Before propagation\n",
    "#[1]:  Auto-Resize (1) or not (0) After propagation\n",
    "#[2]:  Relative Precision for propagation with Auto-Resizing (1. is nominal)\n",
    "#[3]:  Allow (1) or not (0) for semi-analytical treatment of quadratic phase terms at propagation\n",
    "#[4]:  Do any Resizing on Fourier side, using FFT, (1) or not (0)\n",
    "#[5]:  Horizontal Range modification factor at Resizing (1. means no modification)\n",
    "#[6]:  Horizontal Resolution modification factor at Resizing\n",
    "#[7]:  Vertical Range modification factor at Resizing\n",
    "#[8]:  Vertical Resolution modification factor at Resizing\n",
    "#[9]:  Type of wavefront Shift before Resizing (not yet implemented)\n",
    "#[10]: New Horizontal wavefront Center position after Shift (not yet implemented)\n",
    "#[11]: New Vertical wavefront Center position after Shift (not yet implemented)\n",
    "#                 [ 0] [1] [2]  [3] [4] [5]  [6]  [7]  [8]  [9] [10] [11] \n",
    "ppCRL1 =          [ 0,  0, 1.0,  0,  0, 1.0, 1.0, 1.0, 1.0,  0,  0,   0]\n",
    "ppDriftCRL1_M1 =  [ 0,  0, 1.0,  1,  0, 1.0, 1.0, 1.0, 1.0,  0,  0,   0]\n",
    "ppM1 =            [ 0,  0, 1.0,  0,  0, 1.0, 1.0, 1.0, 1.0,  0,  0,   0]\n",
    "ppDriftM1_Exp  =  [ 0,  0, 1.0,  1,  0, 2.4, 1.8, 2.4, 1.8,  0,  0,   0]\n",
    "ppTrErM1 =        [ 0,  0, 1.0,  0,  0, 1.0, 1.0, 1.0, 1.0,  0,  0,   0]\n",
    "ppCRL2 =          [ 0,  0, 1.0,  0,  0, 1.0, 1.0, 1.0, 1.0,  0,  0,   0]\n",
    "ppDrift_Sample  = [ 0,  0, 1.0,  1,  0, 1.8, 1.5, 1.8, 1.5,  0,  0,   0]\n",
    "ppFin  =          [ 0,  0, 1.0,  0,  0, 0.01, 5.0, 0.01, 5.0,  0,  0,   0]\n",
    "\n",
    "optBL0 = SRWLOptC([opCRL1,  DriftCRL1_M1,opApM1,  DriftM1_Exp], \n",
    "                  [ppCRL1,ppDriftCRL1_M1,  ppM1,ppDriftM1_Exp]) \n",
    "\n",
    "scale = 1     #5 mirror profile scaling factor \n",
    "print('*****HOM1 data for BL1 beamline ')\n",
    "opTrErM1 = SRWLOptT(1500, 100, horApM1, range_xy)\n",
    "#defineOPD(opTrErM1, os.path.join(strInputDataFolder,'mirror1.dat'), 2, '\\t', 'x',  thetaOM, scale)\n",
    "defineOPD(opTrErM1, os.path.join(strInputDataFolder,'mirror2.dat'), 2, ' ', 'x',  thetaOM, scale)\n",
    "opdTmp=numpy.array(opTrErM1.arTr)[1::2].reshape(opTrErM1.mesh.ny,opTrErM1.mesh.nx)\n",
    "pylab.figure()\n",
    "plot_2d(opdTmp, opTrErM1.mesh.xStart*1e3,opTrErM1.mesh.xFin*1e3,opTrErM1.mesh.yStart*1e3,opTrErM1.mesh.yFin*1e3,\n",
    "        'OPD [m]', 'x (mm)', 'y (mm)')  \n",
    "\n",
    "optBL1 = SRWLOptC([opCRL1,  DriftCRL1_M1,opApM1,opTrErM1,  DriftM1_Exp], \n",
    "                  [ppCRL1,ppDriftCRL1_M1,  ppM1,ppTrErM1,ppDriftM1_Exp]) \n",
    "\n",
    "optBL2 = SRWLOptC([opCRL1,  DriftCRL1_M1,opApM1,opTrErM1,  DriftM1_Exp, opCRL2,Drift_Sample], \n",
    "                  [ppCRL1,ppDriftCRL1_M1,  ppM1,ppTrErM1,ppDriftM1_Exp, ppCRL2, ppDrift_Sample,ppFin]) "
   ]
  },
  {
   "cell_type": "markdown",
   "metadata": {},
   "source": [
    "### Propagating through BL0 beamline. Collimating CRL and ideal mirror"
   ]
  },
  {
   "cell_type": "code",
   "execution_count": null,
   "metadata": {
    "collapsed": false
   },
   "outputs": [],
   "source": [
    "print '*****Collimating CRL and ideal mirror'\n",
    "bPlotted = False\n",
    "isHlog = False\n",
    "isVlog = False\n",
    "bSaved = True\n",
    "optBL = optBL0\n",
    "strBL = 'bl0'\n",
    "pos_title = 'at exp hall wall'\n",
    "print '*****setting-up optical elements, beamline:', strBL\n",
    "\n",
    "bl = Beamline(optBL)\n",
    "print bl\n",
    "\n",
    "if bSaved:\n",
    "    out_file_name = os.path.join(strDataFolderName, fname0+'_'+strBL+'.h5')\n",
    "    print 'save hdf5:', out_file_name\n",
    "else:\n",
    "    out_file_name = None\n",
    "    \n",
    "startTime = time.time()\n",
    "mwf = propagate_wavefront(ifname, bl,out_file_name)\n",
    "print 'propagation lasted:', round((time.time() - startTime) / 6.) / 10., 'min'"
   ]
  },
  {
   "cell_type": "code",
   "execution_count": null,
   "metadata": {
    "collapsed": false
   },
   "outputs": [],
   "source": [
    "print '*****Collimating CRL and ideal mirror'\n",
    "plot_wfront(mwf, 'at '+str(z1+z2+z3)+' m',False, False, 1e-4,1e-7,'x', True, saveDir='./'+strDataFolderName)\n",
    "pylab.set_cmap('bone') #set color map, 'bone', 'hot', 'jet', etc\n",
    "pylab.axis('tight')    \n",
    "print 'FWHMx [mm], theta_fwhm [urad]:',calculate_fwhm_x(mwf)*1e3,calculate_fwhm_x(mwf)/(z1+z2)*1e6\n",
    "print 'FWHMy [mm], theta_fwhm [urad]:',calculate_fwhm_y(mwf)*1e3,calculate_fwhm_y(mwf)/(z1+z2)*1e6"
   ]
  },
  {
   "cell_type": "markdown",
   "metadata": {},
   "source": [
    "### Propagating through BL1 beamline. Collimating CRL and imperfect mirror"
   ]
  },
  {
   "cell_type": "code",
   "execution_count": null,
   "metadata": {
    "collapsed": false
   },
   "outputs": [],
   "source": [
    "print ('*****Collimating CRL and imperfect mirror')\n",
    "bPlotted = False\n",
    "isHlog = True\n",
    "isVlog = False\n",
    "bSaved = False\n",
    "optBL = optBL1\n",
    "strBL = 'bl1'\n",
    "pos_title = 'at exp hall wall'\n",
    "print '*****setting-up optical elements, beamline:', strBL\n",
    "\n",
    "bl = Beamline(optBL)\n",
    "print bl\n",
    "\n",
    "if bSaved:\n",
    "    out_file_name = os.path.join(strDataFolderName, fname0+'_'+strBL+'.h5')\n",
    "    print 'save hdf5:', out_file_name\n",
    "else:\n",
    "    out_file_name = None\n",
    "    \n",
    "startTime = time.time()\n",
    "mwf = propagate_wavefront(ifname, bl,out_file_name)\n",
    "print 'propagation lasted:', round((time.time() - startTime) / 6.) / 10., 'min'"
   ]
  },
  {
   "cell_type": "code",
   "execution_count": null,
   "metadata": {
    "collapsed": false
   },
   "outputs": [],
   "source": [
    "print ('*****Collimating CRL and imperfect mirror')\n",
    "plot_wfront(mwf, 'at '+str(z1+z2+z3)+' m',False, False, 1e-4,1e-7,'x', True, saveDir='./'+strDataFolderName)\n",
    "pylab.set_cmap('bone') #set color map, 'bone', 'hot', etc\n",
    "pylab.axis('tight')    \n",
    "print 'FWHMx [mm], theta_fwhm [urad]:',calculate_fwhm_x(mwf)*1e3,calculate_fwhm_x(mwf)/(z1+z2)*1e6\n",
    "print 'FWHMy [mm], theta_fwhm [urad]:',calculate_fwhm_y(mwf)*1e3,calculate_fwhm_y(mwf)/(z1+z2)*1e6"
   ]
  },
  {
   "cell_type": "markdown",
   "metadata": {},
   "source": [
    "### Propagating through BL2 beamline. Collimating CRL1, imperfect mirror, focusing CRL2"
   ]
  },
  {
   "cell_type": "code",
   "execution_count": null,
   "metadata": {
    "collapsed": false
   },
   "outputs": [],
   "source": [
    "print ('*****Collimating CRL1, imperfect mirror, focusing CRL2')\n",
    "bPlotted = False\n",
    "isHlog = True\n",
    "isVlog = False\n",
    "bSaved = False\n",
    "optBL = optBL2\n",
    "strBL = 'bl2'\n",
    "pos_title = 'at sample'\n",
    "print '*****setting-up optical elements, beamline:', strBL\n",
    "bl = Beamline(optBL)\n",
    "print bl\n",
    "\n",
    "if bSaved:\n",
    "    out_file_name = os.path.join(strDataFolderName, fname0+'_'+strBL+'.h5')\n",
    "    print 'save hdf5:', out_file_name\n",
    "else:\n",
    "    out_file_name = None\n",
    "    \n",
    "startTime = time.time()\n",
    "mwf = propagate_wavefront(ifname, bl,out_file_name)\n",
    "print 'propagation lasted:', round((time.time() - startTime) / 6.) / 10., 'min'"
   ]
  },
  {
   "cell_type": "code",
   "execution_count": null,
   "metadata": {
    "collapsed": false
   },
   "outputs": [],
   "source": [
    "print ('*****Collimating CRL1, imperfect mirror, focusing CRL2')\n",
    "plot_wfront(mwf, 'at '+str(z1+z2+z3+z4)+' m',True, True, 1e-4,1e-6,'x', True, saveDir='./'+strDataFolderName)\n",
    "#pylab.set_cmap('bone') #set color map, 'bone', 'hot', etc\n",
    "pylab.axis('tight')    \n",
    "print 'FWHMx [um], FWHMy [um]:',calculate_fwhm_y(mwf)*1e6,calculate_fwhm_y(mwf)*1e6 "
   ]
  }
 ],
 "metadata": {
  "kernelspec": {
   "display_name": "Python 2",
   "language": "python",
   "name": "python2"
  },
  "language_info": {
   "codemirror_mode": {
    "name": "ipython",
    "version": 2
   },
   "file_extension": ".py",
   "mimetype": "text/x-python",
   "name": "python",
   "nbconvert_exporter": "python",
   "pygments_lexer": "ipython2",
   "version": "2.7.9"
  }
 },
 "nbformat": 4,
 "nbformat_minor": 0
}
