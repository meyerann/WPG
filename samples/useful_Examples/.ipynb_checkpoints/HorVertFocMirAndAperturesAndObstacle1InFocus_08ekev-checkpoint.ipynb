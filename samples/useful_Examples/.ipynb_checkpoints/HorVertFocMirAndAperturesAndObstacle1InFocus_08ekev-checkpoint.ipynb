{
 "cells": [
  {
   "cell_type": "markdown",
   "metadata": {},
   "source": [
    "##Propagation through beamline with several optic elements\n",
    "\n",
    "This example uses wave optics software based on SRW core library <https://github.com/ochubar/SRW>, available through WPG interactive framework <https://github.com/samoylv/WPG> \n",
    "\n",
    "#TODO\n",
    "more short explaination about example\n",
    "\n",
    "![Image of simulated beamline](diagramm.png)\n",
    "\n",
    "\n",
    "\n",
    "\n"
   ]
  },
  {
   "cell_type": "code",
   "execution_count": null,
   "metadata": {
    "collapsed": false
   },
   "outputs": [],
   "source": [
    "%pylab inline"
   ]
  },
  {
   "cell_type": "markdown",
   "metadata": {},
   "source": [
    "####Import modules and necessary core and helper functions"
   ]
  },
  {
   "cell_type": "code",
   "execution_count": null,
   "metadata": {
    "collapsed": false
   },
   "outputs": [],
   "source": [
    "import os\n",
    "import sys\n",
    "#sys.path.insert(0,'/home/meyerann/WPG')\n",
    "sys.path.insert(0,os.path.join('..','..'))\n",
    "\n",
    "import time\n",
    "import copy\n",
    "import numpy\n",
    "import pylab\n",
    "\n",
    "#Base wavefront class\n",
    "from wpg import Wavefront\n",
    "\n",
    "#import SRW helpers functions\n",
    "from wpg.useful_code.srwutils import AuxTransmAddSurfHeightProfileScaled\n",
    "\n",
    "from wpg.srwlib import srwl, SRWLOptD, SRWLOptL, SRWLOptC, SRWLOptA, SRWLOptMirEl, SRWLOptT\n",
    "#Gaussian beam generator\n",
    "from wpg.generators import build_gauss_wavefront_xy\n",
    "from wpg.beamline import Beamline\n",
    "from wpg import optical_elements  # wrapers for optical elements\n",
    " \n",
    "#helper functions\n",
    "#from wfrutilsAKM import plot_wfront\n",
    "from wpg.useful_code.wfrutils import plot_wfront, get_mesh, print_beamline, calculate_fwhm_x, calculate_fwhm_y, plot_1d, plot_2d\n",
    "\n",
    "pylab.ion()"
   ]
  },
  {
   "cell_type": "code",
   "execution_count": null,
   "metadata": {
    "collapsed": true
   },
   "outputs": [],
   "source": [
    "def calculate_theta_fwhm_cdr(ekev,qnC):\n",
    "    \"\"\"\n",
    "    Calculate angular divergence using formula from XFEL CDR2011\n",
    "    \n",
    "    :param ekev: Energy in keV\n",
    "    :param qnC: e-bunch charge, [nC]\n",
    "    :return: theta_fwhm [units?]\n",
    "    \"\"\"\n",
    "    theta_fwhm = (17.2 - 6.4 * sqrt(qnC))*1e-6/ekev**0.85\n",
    "    return theta_fwhm"
   ]
  },
  {
   "cell_type": "code",
   "execution_count": null,
   "metadata": {
    "collapsed": true
   },
   "outputs": [],
   "source": [
    "def defineOPD(opTrErMirr, mdatafile, ncol, delim, Orient, theta, scale):\n",
    "    \"\"\"\n",
    "    Define optical path difference (OPD) from mirror profile, i.e. ill the struct opTrErMirr\n",
    "    \n",
    "    :params mdatafile: an ascii file with mirror profile data\n",
    "    :params ncol: number of columns in the file\n",
    "    :params delim: delimiter between numbers in an row, can be space (' '), tab '\\t', etc\n",
    "    :params orient: mirror orientation, 'x' (horizontal) or 'y' (vertical)\n",
    "    :params theta: incidence angle\n",
    "    :params scale: scaling factor for the mirror profile    \n",
    "    \"\"\"\n",
    "    heightProfData = numpy.loadtxt(mdatafile).T\n",
    "    AuxTransmAddSurfHeightProfileScaled(opTrErMirr, heightProfData, Orient, theta, scale)\n",
    "    pylab.figure()\n",
    "    plot_1d(heightProfData,'profile from ' + mdatafile,'x (m)', 'h (m)')"
   ]
  },
  {
   "cell_type": "code",
   "execution_count": null,
   "metadata": {
    "collapsed": true
   },
   "outputs": [],
   "source": [
    "def defineEFM(orient,p,q,thetaEFM,theta0,lengthEFM):\n",
    "    \"\"\"\n",
    "    A wrapper to a SRWL function SRWLOptMirEl() for defining a plane elliptical focusing mirror propagator\n",
    "    \n",
    "    :param Orient:    mirror orientation, 'x' (horizontal) or 'y' (vertical)\n",
    "    :param p:  the distance to two ellipsis centers\n",
    "    :param q:  the distance to two ellipsis centers\n",
    "    :param thetaEFM:  the design incidence angle in the center of the mirror\n",
    "    :param theta0:    the \"real\" incidence angle in the center of the mirror\n",
    "    :param lengthEFM: mirror length, [m]\n",
    "    :return: the struct opEFM\n",
    "    \"\"\"\n",
    "    if orient == 'x':     #horizontal plane ellipsoidal mirror\n",
    "        opEFM = SRWLOptMirEl(_p=p, _q=q, _ang_graz=thetaEFM, _r_sag=1.e+40, _size_tang=lengthEFM, \n",
    "            _nvx=cos(theta0), _nvy=0, _nvz=-sin(theta0), _tvx=-sin(theta0), _tvy=0, _x=0, _y=0, _treat_in_out=1) \n",
    "    elif orient == 'y': #vertical plane ellipsoidal mirror\n",
    "        opEFM = SRWLOptMirEl(_p=p, _q=q, _ang_graz=thetaEFM, _r_sag=1.e+40, _size_tang=lengthEFM, \n",
    "            _nvx=0, _nvy=cos(theta0), _nvz=-sin(theta0), _tvx=0, _tvy=-sin(theta0), _x=0, _y=0, _treat_in_out=1)\n",
    "    else:\n",
    "        raise TypeError('orient should be \"x\" or \"y\"')\n",
    "    return opEFM"
   ]
  },
  {
   "cell_type": "code",
   "execution_count": null,
   "metadata": {
    "collapsed": true
   },
   "outputs": [],
   "source": [
    "def defineBladeBL(width,zCenter,zEnd,orient='x',kFresnel=1,sizeX=5e-2,sizeY=5e-2):\n",
    "    \"\"\"\n",
    "    A wrapper to a SRWL function SRWLOptA() for defining a beamline with a slit with 2 rectangular obstacles and \n",
    "    calculates expected position of k. minima of interference fringe caused by 1. and 2. obstacle.\n",
    "    \n",
    "    :param width:  slit width [m]\n",
    "    :param zCenter:  position of center of blades [m]\n",
    "    :param zEnd:  observation point position [m]\n",
    "    :param orient: direction of shifting the slit center, 'x' (horizontal = default) or 'y' (vertical)\n",
    "    :param kFresnel:  number of minimum on Fresnel diffraction curve, which position will be printed out\n",
    "    :param sizeX: horizontal size of blade [m]\n",
    "    :param sizeY: vertical size of blade [m]\n",
    "    :return: the struct BL and parameter distanceBetweenObstacles\n",
    "    \"\"\"\n",
    "    distBetweenObstacles = 0.30\n",
    "    Position2Obstacle = zCenter+distBetweenObstacles/2\n",
    "    distDriftAfter1Obstacle = zEnd - Position2Obstacle + distBetweenObstacles\n",
    "    distDriftAfter2Obstacle = zEnd - Position2Obstacle\n",
    "\n",
    "    F = width**2/(distDriftAfter1Obstacle*lamda)\n",
    "    print 'Fresnel number after 1. obstacle in distance %.3f m is %.3f' %(distDriftAfter1Obstacle, F)\n",
    "    x_n = sqrt((distDriftAfter1Obstacle)*lamda*(2*kFresnel-1/4))\n",
    "    print 'expected %f minima of interference fringe after 1. obstacle at: %.9f m' %(kFresnel,x_n)\n",
    "\n",
    "    F = width**2/(distDriftAfter2Obstacle*lamda)\n",
    "    print 'Fresnel number after 2. obstacle in distance %.3f m is %.3f' %(distDriftAfter2Obstacle, F)\n",
    "    x_n = sqrt((distDriftAfter2Obstacle/2)*lamda*(2*kFresnel-1/4))\n",
    "    print 'expected %f minima of interference fringe after 2. obstacle at: %.9f m' %(kFresnel,x_n)\n",
    "\n",
    "    F = width**2/(distBetweenObstacles*lamda)\n",
    "    print 'Fresnel number after both obstacle in distance %.3f m is %.3f' %(distDriftAfter2Obstacle, F)\n",
    "\n",
    "    L0 = Beamline()\n",
    "    L1 = Beamline()\n",
    "    L2 = Beamline()\n",
    "    \n",
    "    DriftOp2Op = SRWLOptD(distBetweenObstacles)\n",
    "    DriftAfter2Obstacle = SRWLOptD(distDriftAfter2Obstacle)\n",
    "    \n",
    "    if orient == 'x':\n",
    "        opOpstacle1 = SRWLOptA('r', 'o',sizeX,sizeY,   (sizeX/2 + width/2),0)\n",
    "        opOpstacle2 = SRWLOptA('r', 'o',sizeX,sizeY,  -(sizeX/2 + width/2),0)\n",
    "        L0.append(opOpstacle1,    optical_elements.Use_PP(zoom_h=1.0, sampling_h=1.0/0.25, semi_analytical_treatment=0))\n",
    "        L1.append(DriftOp2Op,     optical_elements.Use_PP(semi_analytical_treatment=0))\n",
    "        L1.append(opOpstacle2,    optical_elements.Use_PP(zoom_h=1/2.5, sampling_h=1.0,  semi_analytical_treatment=0))\n",
    "        L2.append(DriftAfter2Obstacle, optical_elements.Use_PP(zoom_h=2.4, sampling_h=1.0/0.4,semi_analytical_treatment=1)) \n",
    "    elif orient == 'y':\n",
    "        opOpstacle1 = SRWLOptA('r', 'o',sizeX,sizeY,0, (sizeY/2 + width/2))\n",
    "        opOpstacle2 = SRWLOptA('r', 'o',sizeX,sizeY,0,-(sizeY/2 + width/2))\n",
    "        L0.append(opOpstacle1,    optical_elements.Use_PP(zoom_v=1.0, sampling_v=1.0/0.25, semi_analytical_treatment=0))\n",
    "        L1.append(DriftOp2Op,     optical_elements.Use_PP(semi_analytical_treatment=0))\n",
    "        L1.append(opOpstacle2,    optical_elements.Use_PP(zoom_v=1/2.5, sampling_v=1.0,  semi_analytical_treatment=0))\n",
    "        L2.append(DriftAfter2Obstacle, optical_elements.Use_PP(zoom_v=2.4, sampling_v=1.0/0.4,semi_analytical_treatment=1))    \n",
    "    else:\n",
    "        raise TypeError('orient should be \"x\" or \"y\"')\n",
    "    \n",
    "\n",
    "    \n",
    "    return L0,L1,L2, distBetweenObstacles"
   ]
  },
  {
   "cell_type": "markdown",
   "metadata": {},
   "source": [
    "###  Gaussian wavefront parameters\n",
    "\n",
    "Before building initial gaussian wavefront the beam parameters, which defines the behavior and geometry of a Gaussian beam, must be calculated. \n",
    "\n",
    "wave length of beam: $\\lambda=\\frac{12.4}{E[kev]}$ \n",
    "\n",
    "angular divergence: $\\theta_{FWHM}$ is calculated by using the empirical formula from XFEL CDR2011\n",
    "\n",
    "beam waist: $\\omega_0 = \\frac{\\lambda}{\\pi\\theta}$\n",
    "\n",
    "Rayleigh range: ${z}_R=\\frac{\\pi{\\omega_0}^2}{\\lambda}$  At this point the beam is widened to $\\sqrt{2}\\omega_0$\n",
    "\n",
    "FWHM at ${z}_R$: $FWHM_{z_R} = \\theta_{FWHM}{z}_R$ --> weil sin(theta[theta im bogenmass])=x\\laenge=theta\n",
    "\n",
    "FWHM of amplitude: $\\frac{1}{2} = exp(-\\frac{x^2}{w^2})$ --> $x = w\\sqrt{-ln\\frac{1}{2}}$ --> $x = 2\\sigma\\sqrt{ln2}$\n",
    "\n",
    "$\\sigma$ of amplitude: $ \\sigma_{amp} = \\frac{FWHM}{2\\sqrt{ln2}} $\n",
    "\n",
    "Afterwards the parameters will be printed out, so the expected FWHM can be compared with the propagated."
   ]
  },
  {
   "cell_type": "code",
   "execution_count": null,
   "metadata": {
    "collapsed": false
   },
   "outputs": [],
   "source": [
    "#wavefront parameters\n",
    "qnC = 0.1  # e-bunch charge, [nC]\n",
    "pulse_duration = 9.e-15 # [s]      \n",
    "ekev = 0.8  # Energy in [keV]\n",
    "#ekev = 0.4\n",
    "#ekev = 1.6\n",
    "\n",
    "lamda = 12.4*1e-10/ekev # wavelength [AKM]\n",
    "theta_fwhm = calculate_theta_fwhm_cdr(ekev,qnC)#angular divergence\n",
    "w0 = lamda/(pi*theta_fwhm) # beam waist\n",
    "z_R = (pi*w0**2)/lamda #Rayleigh range\n",
    "fwhmAtZ_R = theta_fwhm*z_R #FWHM at Rayleigh range\n",
    "sigmaAmp = w0/(2*sqrt(log(2))) #sigma of amplitude\n",
    "\n",
    "#Print out the calculated wavefront parameters and expected FWHM\n",
    "print 'theta_fwhm: %.2f urad' % (theta_fwhm*1e6)\n",
    "print 'w0 %.3f um:' %(w0*1e6)\n",
    "print 'lamda %.3f nm:' %(lamda*1e9)\n",
    "print '2*z_R: %.3f m:' %(2*z_R)\n",
    "print 'sigma_Amplitude %.3f um:' %(sigmaAmp*1e6)"
   ]
  },
  {
   "cell_type": "markdown",
   "metadata": {},
   "source": [
    "### initial Gaussian wavefront\n",
    "With the calculated beam parameters the initial wavefront is build with 400x400 data points and in distance of the first vertical elliptical focusing mirror at 300m. For further propagation the built wavefront should be stored. After plotting the wavefront the FWHM should be printed out for comparing.\n",
    "\n",
    "Expected FWHM at first screen or focusing mirror: $FWHM_{d} = \\theta_{FWHM}d$\n",
    "\n",
    "####gaussian beam radius and size at some point \n",
    "$\\omega(z) = \\omega_0*\\sqrt{1+(\\frac{z\\lambda}{\\pi\\omega_0^2})^2}$ \n",
    "\n",
    "$\\frac{1}{z_R} = \\frac{\\lambda}{\\pi\\omega_0^2}$\n",
    "\n",
    "$\\omega(z) = \\omega_0*\\sqrt{1+(\\frac{z}{z_R})^2}$\n",
    "\n",
    "####beam size is a little bit (ca 200 nm )smaller than expected. Is it because the calculating of the expected FWHM is approximatly???\n",
    "\n",
    "beam radius at several point\n",
    "$\\omega(z) = \\omega_0*\\sqrt{1+(\\frac{z\\lambda}{\\pi\\omega_0^2})^2}$ \n",
    "\n",
    "$\\frac{1}{z_R} = \\frac{\\lambda}{\\pi\\omega_0^2}$\n",
    "\n",
    "$\\omega(z) = \\omega_0*\\sqrt{1+(\\frac{z}{z_R})^2}$\n",
    "\n"
   ]
  },
  {
   "cell_type": "code",
   "execution_count": null,
   "metadata": {
    "collapsed": false
   },
   "outputs": [],
   "source": [
    "\n",
    "HEFM = 284.0 # [m] first horizontal focussing mirror M2\n",
    "VLens = 300.0 # [m] first vertical focussing mirror\n",
    "print 'expected FWHM at distance %.1f: %.2f mm' %(HEFM,theta_fwhm*HEFM*1e3)\n",
    "\n",
    "#quintuple beam radius at horizontal lens distance to get the range of the wavefront \n",
    "range_xy = w0*sqrt(1+(VLens/z_R)**2) *5\n",
    "print 'range_xy :', range_xy\n",
    "\n",
    "#number of points\n",
    "np = 400\n",
    "\n",
    "#build wavefront\n",
    "wfr = build_gauss_wavefront_xy(nx=np, ny=np, ekev=ekev, xMin=-range_xy/2, xMax=range_xy/2, \n",
    "                               yMin=-range_xy/2, yMax=range_xy/2, sigX=sigmaAmp, \n",
    "                               sigY=sigmaAmp,d2waist=HEFM)\n",
    "#init WPG Wavefront with helper class\n",
    "mwf = Wavefront(wfr)\n",
    "\n",
    "#defining name HDF5 file for storing wavefront\n",
    "strOutInDataFolder = 'data_common'\n",
    "wfrName = os.path.join(strOutInDataFolder,'gwf'+'.h5')\n",
    "#store wavefront to HDF5 file \n",
    "#mwf.store_hdf5(wfrName)\n",
    "print 'saving WF to %s' %wfrName\n",
    "\n",
    "#plot the wavefront\n",
    "plot_wfront(mwf, title_fig='before M2 at '+str(HEFM)+' m', isHlog=False, isVlog=False,\n",
    "            i_x_min=1e-6, i_y_min=1e-6, orient='y', onePlot=True, bPlotPha=False)\n",
    "print ' '\n",
    "print ' FWHM at distance %.1f: %.3f mm' %(HEFM,calculate_fwhm_x(mwf)*1e3)"
   ]
  },
  {
   "cell_type": "markdown",
   "metadata": {},
   "source": [
    "###Horizontal elliptical focusing offset mirror:\n",
    "\n",
    "The wavefront will be focused with a focusing offset mirror (M2) at distance (284.0m) in horizontal plane. Before focusing the beam the expected beam size after the propagation at point of focus and calculating distances of focus.\n",
    "\n",
    "Focal length for thin lenses will be calculated by\n",
    "\n",
    "$\\frac{1}{f}=\\frac{1}{p}+\\frac{1}{q}$\n",
    "\n",
    "The expected FWHM at focus will be calculated with proportion of the distances after and before the lens multiplied by the FWHM at source \n",
    "\n",
    "$FWHM_{focus}=\\frac{q}{p}*FWHM_{source}$"
   ]
  },
  {
   "cell_type": "code",
   "execution_count": null,
   "metadata": {
    "collapsed": false
   },
   "outputs": [],
   "source": [
    "horFocus = 374.0 #given point of where the focus should be\n",
    "q = VLens-HEFM #distance between horizontal focusing lens and given point of focus"
   ]
  },
  {
   "cell_type": "markdown",
   "metadata": {},
   "source": [
    "### Building beamline with horizontal focusing mirror\n",
    "The beamline consists of an aperture infront of the horizontal elliptical focussing mirror, to clean up the beam, the focussing mirror and the drift after lens to the vertical focussing lens. So the wavefront is propagated from first horizontal lens at 284m to vertical lens at 300m.\n",
    "\n",
    "The size of the horizontal FWHM at horizontal focus varies according to the change of the angle of the offset focussing mirror. The beam gets a smaller focus with bigger angle. \n",
    "\n",
    "The length of the mirror is realized with the aperture.\n",
    "The size of the aperture is calculated with angle and length of mirror $l_M$\n",
    "$sin\\theta = \\frac{x}{l_M}$ --> $x = sin\\theta*l_M$ with $sin\\theta = \\theta$ for small angles in urad.\n"
   ]
  },
  {
   "cell_type": "code",
   "execution_count": null,
   "metadata": {
    "collapsed": false,
    "scrolled": false
   },
   "outputs": [],
   "source": [
    "thetaOM = 6e-3 \n",
    "horApM1 = 0.8*thetaOM\n",
    "opApHEFM =  SRWLOptA('r', 'a',horApM1,range_xy) \n",
    "opApGen=SRWLOptA('r', 'a',range_xy,range_xy)\n",
    "\n",
    "thetaEM = 52.4e-3   # incidence angle of elliptical  mirror, 3 deg\n",
    "lengthM = 0.5 #[m] Mirror length\n",
    "\n",
    "dHEFM2VL = VLens-HEFM #distance between horizontal focusing lens and given point of focus\n",
    "\n",
    "HorizontalEFM = defineEFM(orient='x',p=HEFM ,q=dHEFM2VL,thetaEFM=thetaEM,theta0=thetaEM,\n",
    "                          lengthEFM=lengthM) # define horizontal elliptical focussing mirror\n",
    "DriftHEFM_VLens = SRWLOptD(dHEFM2VL) #define the drift between\n",
    "\n",
    "BL0 = Beamline()\n",
    "BL0.append(opApHEFM, optical_elements.Use_PP(sampling_h=1.0/0.125, semi_analytical_treatment=0))\n",
    "BL0.append(HorizontalEFM, optical_elements.Use_PP(semi_analytical_treatment=1))\n",
    "BL0.append(DriftHEFM_VLens,optical_elements.Use_PP(semi_analytical_treatment=1))\n",
    "BL0.append(opApGen,optical_elements.Use_PP(zoom_h=1/10., semi_analytical_treatment=0))\n",
    "BL0.append(opApHEFM, optical_elements.Use_PP(sampling_v=1.0/0.5, semi_analytical_treatment=0))\n",
    "print BL0\n",
    "\n",
    "\n",
    "# reload the wavefront (good practise while debugging beamline)\n",
    "mwf = Wavefront()\n",
    "#mwf.load_hdf5(wfrName)\n",
    "print 'loading WF from %s' %wfrName\n",
    "\n",
    "BL0.propagate(mwf)\n",
    "\n",
    "print 'Plot mit obstacle'\n",
    "plot_wfront(mwf, title_fig='before M3 at '+str(VLens)+' m', isHlog=False, isVlog=False, \n",
    "            i_x_min=1e-4, i_y_min=1e-4, orient='x', onePlot=True, bPlotPha=False)\n",
    "print ' '\n",
    "wfr0Name = os.path.join(strOutInDataFolder,'wBL0vh'+'.h5')\n",
    "#store wavefront to HDF5 file \n",
    "#mwf.store_hdf5(wfr0Name)\n",
    "\n"
   ]
  },
  {
   "cell_type": "markdown",
   "metadata": {},
   "source": [
    "### Building beamline with focusing mirror\n",
    "The beamline consists of an aperture infront of the horizontal elliptical focussing mirror, to clean up the beam, the focussing mirror and the drift after lens to the vertical focussing lens. So the wavefront is propagated from first horizontal lens at 284m to vertical lens at 300m.\n",
    "\n",
    "The size of the horizontal FWHM at horizontal focus varies according to the change of the angle of the offset focussing mirror. The beam gets a smaller focus with bigger angle. \n",
    "\n",
    "The length of the mirror is realized with the aperture.\n",
    "The size of the aperture is calculated with angle and length of mirror $l_M$\n",
    "$sin\\theta = \\frac{x}{l_M}$ --> $x = sin\\theta*l_M$ with $sin\\theta = \\theta$ for small angles in urad."
   ]
  },
  {
   "cell_type": "markdown",
   "metadata": {},
   "source": [
    "### Building beamline with vertical focusing mirror\n",
    "The beamline consists of the vertical focussing lens at 300m and it drifts through the horizontal focus at 374m to the vertical focus at 400m. Two blades are placed around the horizontal focus to clean up the beam.\n",
    "\n",
    "The size of the the horizontal FWHM varies according to the change of the slit size, which is created by the blades.  "
   ]
  },
  {
   "cell_type": "code",
   "execution_count": null,
   "metadata": {
    "collapsed": false,
    "scrolled": false
   },
   "outputs": [],
   "source": [
    "vertFocus = 400\n",
    "qN = vertFocus - VLens\n",
    "\n",
    "slit_size = 200e-6\n",
    "BL2 = Beamline()\n",
    "BL3 = Beamline()\n",
    "BL4 = Beamline()\n",
    "#define beamline with 1. blade on focus\n",
    "BL2,BL3,BL4, distBetweenObstacles = defineBladeBL(width=slit_size, zCenter=horFocus+0.15, zEnd=vertFocus, orient='x', kFresnel=2)\n",
    "DriftHM2Op = SRWLOptD(q)\n",
    "\n",
    "VertLens = SRWLOptL(1e23,qN)\n",
    "DriftVLens_hFocus = SRWLOptD(horFocus-VLens-distBetweenObstacles)\n",
    "\n",
    "BL01 = Beamline()\n",
    "\n",
    "BL01.append(VertLens, optical_elements.Use_PP(semi_analytical_treatment=1))\n",
    "BL01.append(DriftVLens_hFocus,optical_elements.Use_PP(semi_analytical_treatment=1))\n",
    "BL01.append(opApGen,optical_elements.Use_PP(zoom_h=1/1.25,zoom_v=1/1.6))\n",
    "\n",
    "BL01.propagate(mwf)\n",
    "BL2.propagate(mwf)\n",
    "BL3.propagate(mwf)\n",
    "BL4.propagate(mwf)\n",
    "\n",
    "print 'Plot mit obstacle'\n",
    "plot_wfront(mwf, title_fig='at VF at '+str(vertFocus)+' m', isHlog=False, isVlog=False, \n",
    "            i_x_min=1e-4, i_y_min=1e-4, orient='x', onePlot=True, bPlotPha=False)\n",
    "print ' '\n"
   ]
  },
  {
   "cell_type": "markdown",
   "metadata": {},
   "source": [
    "### Building beamline through vertical focus\n",
    "\n",
    "The beamline consists of two blades to clean up the beam. The first one is at point of focus and the second is in opposite site of the beam behind the focus. After the second blade the beam propagates to the screen at 402m."
   ]
  },
  {
   "cell_type": "code",
   "execution_count": null,
   "metadata": {
    "collapsed": false
   },
   "outputs": [],
   "source": [
    "\n",
    "slit_size = 200e-6\n",
    "BL5 = Beamline()\n",
    "BL6 = Beamline()\n",
    "BL7 = Beamline()\n",
    "#define beamline with 1. blade on focus\n",
    "BL5,BL6,BL7, distBetweenObstacles = defineBladeBL(width=slit_size, zCenter=vertFocus+0.15, zEnd=vertFocus+20, orient='y', kFresnel=2)\n",
    "BL7.append(opApGen,optical_elements.Use_PP(zoom_h=1/9.,zoom_v=1/9.))\n",
    "\n",
    "BL5.propagate(mwf)\n",
    "BL6.propagate(mwf)\n",
    "BL7.propagate(mwf)\n",
    "\n",
    "print 'Plot mit obstacle'\n",
    "plot_wfront(mwf, title_fig='at KB aperture at '+str(vertFocus+2)+' m', isHlog=False, isVlog=False, \n",
    "            i_x_min=1e-4, i_y_min=1e-4, orient='x', onePlot=True, bPlotPha=False)\n",
    "print ' '"
   ]
  },
  {
   "cell_type": "code",
   "execution_count": null,
   "metadata": {
    "collapsed": true
   },
   "outputs": [],
   "source": []
  }
 ],
 "metadata": {
  "kernelspec": {
   "display_name": "Python 2",
   "language": "python",
   "name": "python2"
  },
  "language_info": {
   "codemirror_mode": {
    "name": "ipython",
    "version": 2
   },
   "file_extension": ".py",
   "mimetype": "text/x-python",
   "name": "python",
   "nbconvert_exporter": "python",
   "pygments_lexer": "ipython2",
   "version": "2.7.9"
  }
 },
 "nbformat": 4,
 "nbformat_minor": 0
}
